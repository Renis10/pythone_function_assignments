{
 "cells": [
  {
   "cell_type": "markdown",
   "id": "baaf5c2a-0097-4e11-8b44-3060a6bfdca4",
   "metadata": {},
   "source": [
    "# Assignment Functions"
   ]
  },
  {
   "cell_type": "markdown",
   "id": "9f084c66-d77c-4594-8629-a90cb2ab0c48",
   "metadata": {},
   "source": [
    "## Theory Questions:"
   ]
  },
  {
   "cell_type": "code",
   "execution_count": 3,
   "id": "d3a3738f-77b5-4422-a7f1-6cf116b9ffd7",
   "metadata": {},
   "outputs": [
    {
     "data": {
      "text/plain": [
       "'\\nNote: For each theory Question, give at least one example.\\n\\n1. What is the difference between a function and a method in Python?\\n\\n2. Explain the concept of function arguments and parameters in Python.\\n\\n3. What are the different ways to define and call a function in Python?\\n\\n4. What is the purpose of the `return` statement in a Python function?\\n\\n5. What are iterators in Python and how do they differ from iterables?\\n\\n6. Explain the concept of generators in Python and how they are defined.\\n\\n7. What are the advantages of using generators over regular functions?\\n\\n8. What is a lambda function in Python and when is it typically used?\\n\\n9. Explain the purpose and usage of the `map()` function in Python.\\n\\n10. What is the difference between `map()`, `reduce()`, and `filter()` functions in Python?\\n\\n11. Using pen & Paper write the internal mechanism for sum operation using  reduce function on this given list:[47,11,42,13]; \\n'"
      ]
     },
     "execution_count": 3,
     "metadata": {},
     "output_type": "execute_result"
    }
   ],
   "source": [
    "'''\n",
    "Note: For each theory Question, give at least one example.\n",
    "\n",
    "1. What is the difference between a function and a method in Python?\n",
    "\n",
    "2. Explain the concept of function arguments and parameters in Python.\n",
    "\n",
    "3. What are the different ways to define and call a function in Python?\n",
    "\n",
    "4. What is the purpose of the `return` statement in a Python function?\n",
    "\n",
    "5. What are iterators in Python and how do they differ from iterables?\n",
    "\n",
    "6. Explain the concept of generators in Python and how they are defined.\n",
    "\n",
    "7. What are the advantages of using generators over regular functions?\n",
    "\n",
    "8. What is a lambda function in Python and when is it typically used?\n",
    "\n",
    "9. Explain the purpose and usage of the `map()` function in Python.\n",
    "\n",
    "10. What is the difference between `map()`, `reduce()`, and `filter()` functions in Python?\n",
    "\n",
    "11. Using pen & Paper write the internal mechanism for sum operation using  reduce function on this given list:[47,11,42,13]; \n",
    "'''"
   ]
  },
  {
   "cell_type": "markdown",
   "id": "f3ad1114-775b-4a74-a12f-156c0bbd0974",
   "metadata": {},
   "source": [
    "## Answer :"
   ]
  },
  {
   "cell_type": "code",
   "execution_count": 8,
   "id": "e224b7fa-b4d6-4dca-9ebd-9d333f84e198",
   "metadata": {},
   "outputs": [
    {
     "data": {
      "text/plain": [
       "'ALICE'"
      ]
     },
     "execution_count": 8,
     "metadata": {},
     "output_type": "execute_result"
    }
   ],
   "source": [
    "# 1. Function: A block of code that performs a specific task and can be called independently.\n",
    "#    Method: A function that is associated with an object or class. It is called using dot notation (.).\n",
    "\n",
    "def greet():\n",
    "    print(\"Hello!\")  # Function\n",
    "\n",
    "name = \"Alice\"\n",
    "name.upper()         # Method "
   ]
  },
  {
   "cell_type": "code",
   "execution_count": 10,
   "id": "e5f9c58d-b879-452a-b347-71f8fba95818",
   "metadata": {},
   "outputs": [],
   "source": [
    "# 2. Parameters are variables listed in a function definition.\n",
    "#    Arguments are values passed to the function when it is called.\n",
    "\n",
    "def add(a, b):       # a, b are parameters\n",
    "    return a + b\n",
    "\n",
    "result = add(3, 5)   # 3 and 5 are arguments"
   ]
  },
  {
   "cell_type": "code",
   "execution_count": 12,
   "id": "611ba7da-2507-41ff-b268-7654bdf5155c",
   "metadata": {},
   "outputs": [
    {
     "name": "stdout",
     "output_type": "stream",
     "text": [
      "16\n",
      "16\n"
     ]
    }
   ],
   "source": [
    "# 3. Define: Using def or lambda.\n",
    "#    Call: Directly by name with parentheses and arguments.\n",
    "\n",
    "def square(x):\n",
    "    return x * x\n",
    "\n",
    "# Calling function\n",
    "print(square(4))\n",
    "\n",
    "# Lambda function\n",
    "square_lambda = lambda x: x * x\n",
    "print(square_lambda(4))\n"
   ]
  },
  {
   "cell_type": "code",
   "execution_count": 14,
   "id": "cb9b059f-ac13-4305-97ed-3a2f94c64ee5",
   "metadata": {},
   "outputs": [
    {
     "name": "stdout",
     "output_type": "stream",
     "text": [
      "10\n"
     ]
    }
   ],
   "source": [
    "# 4. The return statement exits the function and optionally sends back a value to the caller.\n",
    "\n",
    "def multiply(a, b):\n",
    "    return a * b\n",
    "\n",
    "result = multiply(2, 5)\n",
    "print(result)  # Output: 10\n"
   ]
  },
  {
   "cell_type": "code",
   "execution_count": 16,
   "id": "97d62a4e-ea94-49f0-bc9b-54d60b5b54d5",
   "metadata": {},
   "outputs": [
    {
     "name": "stdout",
     "output_type": "stream",
     "text": [
      "1\n"
     ]
    }
   ],
   "source": [
    "# 5. Iterable: An object capable of returning its members one at a time (e.g., list, tuple).\n",
    "#    Iterator: An object representing a stream of data; implements __iter__() and __next__()\n",
    "\n",
    "lst = [1, 2, 3]       # Iterable\n",
    "it = iter(lst)        # Iterator\n",
    "\n",
    "print(next(it))       # Output: 1"
   ]
  },
  {
   "cell_type": "code",
   "execution_count": 18,
   "id": "048db847-e590-4611-8411-2c0a7990a94a",
   "metadata": {},
   "outputs": [
    {
     "name": "stdout",
     "output_type": "stream",
     "text": [
      "3\n",
      "2\n",
      "1\n"
     ]
    }
   ],
   "source": [
    "# 6. Generators are iterators created using a function with the yield statement.\n",
    "\n",
    "def countdown(n):\n",
    "    while n > 0:\n",
    "        yield n\n",
    "        n -= 1\n",
    "\n",
    "for number in countdown(3):\n",
    "    print(number)\n"
   ]
  },
  {
   "cell_type": "code",
   "execution_count": 20,
   "id": "48c875fc-fc3b-4d9a-811e-14eed9e27812",
   "metadata": {},
   "outputs": [],
   "source": [
    "# 7. Memory efficient , Lazy evaluation , Cleaner syntax \n",
    "\n",
    "# Regular function returns all values at once\n",
    "def get_list():\n",
    "    return [i for i in range(1000000)]\n",
    "\n",
    "# Generator yields one value at a time\n",
    "def get_generator():\n",
    "    for i in range(1000000):\n",
    "        yield i\n"
   ]
  },
  {
   "cell_type": "code",
   "execution_count": 22,
   "id": "920cba60-7626-4358-af25-792e8a235b93",
   "metadata": {},
   "outputs": [
    {
     "name": "stdout",
     "output_type": "stream",
     "text": [
      "25\n",
      "[1, 4, 9]\n"
     ]
    }
   ],
   "source": [
    "# 8. An anonymous, one-line function.\n",
    "#    Used for short, throwaway functions—often with map(), filter(), sorted() etc.\n",
    "\n",
    "square = lambda x: x * x\n",
    "print(square(5))  # Output: 25\n",
    "\n",
    "nums = [1, 2, 3]\n",
    "squared = list(map(lambda x: x**2, nums))\n",
    "print(squared)  # Output: [1, 4, 9]\n"
   ]
  },
  {
   "cell_type": "code",
   "execution_count": 24,
   "id": "54685a90-0f1e-450a-a368-5caa5e3afee3",
   "metadata": {},
   "outputs": [
    {
     "name": "stdout",
     "output_type": "stream",
     "text": [
      "[1, 4, 9]\n"
     ]
    }
   ],
   "source": [
    "# 9. Applies a given function to all items in an iterable.\n",
    "\n",
    "nums = [1, 2, 3]\n",
    "squared = list(map(lambda x: x**2, nums))\n",
    "print(squared)  # Output: [1, 4, 9]\n"
   ]
  },
  {
   "cell_type": "code",
   "execution_count": 26,
   "id": "0e409a12-14f1-4242-849f-8f2879d22e84",
   "metadata": {},
   "outputs": [
    {
     "name": "stdout",
     "output_type": "stream",
     "text": [
      "[2, 4, 6, 8] [2, 4] 10\n"
     ]
    }
   ],
   "source": [
    "# 10. | Function   | Purpose                                     | Output                   |\n",
    "#     | ---------- | ------------------------------------------- | ------------------------ |\n",
    "#    | `map()`    | Applies a function to every item            | Transformed iterable     |\n",
    "#   | `filter()` | Filters items using a function (True/False) | Filtered iterable        |\n",
    "#   | `reduce()` | Applies function cumulatively (2 at a time) | Single cumulative result |\n",
    "\n",
    "from functools import reduce\n",
    "\n",
    "nums = [1, 2, 3, 4]\n",
    "\n",
    "mapped = list(map(lambda x: x*2, nums))         # [2, 4, 6, 8]\n",
    "filtered = list(filter(lambda x: x%2==0, nums)) # [2, 4]\n",
    "reduced = reduce(lambda x, y: x + y, nums)      # 10\n",
    "\n",
    "print(mapped, filtered, reduced)\n"
   ]
  },
  {
   "cell_type": "code",
   "execution_count": 30,
   "id": "52a15e5f-4bea-443f-b243-dea098ca3e19",
   "metadata": {},
   "outputs": [
    {
     "name": "stdout",
     "output_type": "stream",
     "text": [
      "113\n"
     ]
    }
   ],
   "source": [
    "# 11. \n",
    "from functools import reduce\n",
    "\n",
    "lst = [47, 11, 42, 13]\n",
    "result = reduce(lambda x, y: x + y, lst)\n",
    "print(result)  # Output: 113\n",
    "\n"
   ]
  },
  {
   "cell_type": "code",
   "execution_count": 32,
   "id": "82bbde9e-5645-4c55-9892-fd242eaa76a0",
   "metadata": {},
   "outputs": [],
   "source": [
    "# Practical Questions:"
   ]
  },
  {
   "cell_type": "code",
   "execution_count": 34,
   "id": "1267b31b-c2ea-4c6a-b499-f72aabfc9d83",
   "metadata": {},
   "outputs": [
    {
     "data": {
      "text/plain": [
       "' \\n1. Write a Python function that takes a list of numbers as input and returns the sum of all even numbers in\\nthe list.\\n\\n2. Create a Python function that accepts a string and returns the reverse of that string.\\n\\n\\n3. Implement a Python function that takes a list of integers and returns a new list containing the squares of\\neach number.\\n\\n4. Write a Python function that checks if a given number is prime or not from 1 to 200.\\n\\n\\n5. Create an iterator class in Python that generates the Fibonacci sequence up to a specified number of\\nterms.\\n\\n6. Write a generator function in Python that yields the powers of 2 up to a given exponent.\\n\\n7. Implement a generator function that reads a file line by line and yields each line as a string.\\n\\n8. Use a lambda function in Python to sort a list of tuples based on the second element of each tuple.\\n\\n9. Write a Python program that uses `map()` to convert a list of temperatures from Celsius to Fahrenheit.\\n\\n10. Create a Python program that uses `filter()` to remove all the vowels from a given string.\\n\\n\\n11) Imagine an accounting routine used in a book shop. It works on a list with sublists, which look like this:\\n\\nWrite a Python program, which returns a list with 2-tuples. Each tuple consists of the order number and the\\nproduct of the price per item and the quantity. The product should be increased by 10,- € if the value of the\\norder is smaller than 100,00 €.\\n\\nWrite a Python program using lambda and map.\\n'"
      ]
     },
     "execution_count": 34,
     "metadata": {},
     "output_type": "execute_result"
    }
   ],
   "source": [
    "''' \n",
    "1. Write a Python function that takes a list of numbers as input and returns the sum of all even numbers in\n",
    "the list.\n",
    "\n",
    "2. Create a Python function that accepts a string and returns the reverse of that string.\n",
    "\n",
    "\n",
    "3. Implement a Python function that takes a list of integers and returns a new list containing the squares of\n",
    "each number.\n",
    "\n",
    "4. Write a Python function that checks if a given number is prime or not from 1 to 200.\n",
    "\n",
    "\n",
    "5. Create an iterator class in Python that generates the Fibonacci sequence up to a specified number of\n",
    "terms.\n",
    "\n",
    "6. Write a generator function in Python that yields the powers of 2 up to a given exponent.\n",
    "\n",
    "7. Implement a generator function that reads a file line by line and yields each line as a string.\n",
    "\n",
    "8. Use a lambda function in Python to sort a list of tuples based on the second element of each tuple.\n",
    "\n",
    "9. Write a Python program that uses `map()` to convert a list of temperatures from Celsius to Fahrenheit.\n",
    "\n",
    "10. Create a Python program that uses `filter()` to remove all the vowels from a given string.\n",
    "\n",
    "\n",
    "11) Imagine an accounting routine used in a book shop. It works on a list with sublists, which look like this:\n",
    "\n",
    "Write a Python program, which returns a list with 2-tuples. Each tuple consists of the order number and the\n",
    "product of the price per item and the quantity. The product should be increased by 10,- € if the value of the\n",
    "order is smaller than 100,00 €.\n",
    "\n",
    "Write a Python program using lambda and map.\n",
    "'''"
   ]
  },
  {
   "cell_type": "code",
   "execution_count": 36,
   "id": "e3d76d48-0cfa-4e6d-925c-527922dd404f",
   "metadata": {},
   "outputs": [
    {
     "name": "stdout",
     "output_type": "stream",
     "text": [
      "12\n"
     ]
    }
   ],
   "source": [
    "#1. \n",
    "\n",
    "def sum_even_numbers(numbers):\n",
    "    return sum(num for num in numbers if num % 2 == 0)\n",
    "\n",
    "# Example:\n",
    "print(sum_even_numbers([1, 2, 3, 4, 5, 6]))  # Output: 12\n"
   ]
  },
  {
   "cell_type": "code",
   "execution_count": 40,
   "id": "ef2d1ffb-0f6e-4e38-bd4a-c335d7d4e74e",
   "metadata": {},
   "outputs": [
    {
     "name": "stdout",
     "output_type": "stream",
     "text": [
      "olleh\n"
     ]
    }
   ],
   "source": [
    "# 2.\n",
    "def reverse_string(s):\n",
    "    return s[::-1]\n",
    "\n",
    "# Example:\n",
    "print(reverse_string(\"hello\"))  \n"
   ]
  },
  {
   "cell_type": "code",
   "execution_count": 42,
   "id": "4c8a3e88-efee-4217-b68e-02a26c6bfcd0",
   "metadata": {},
   "outputs": [
    {
     "name": "stdout",
     "output_type": "stream",
     "text": [
      "[1, 4, 9, 16]\n"
     ]
    }
   ],
   "source": [
    "#3. \n",
    "def square_list(numbers):\n",
    "    return [x**2 for x in numbers]\n",
    "\n",
    "# Example:\n",
    "print(square_list([1, 2, 3, 4]))  \n"
   ]
  },
  {
   "cell_type": "code",
   "execution_count": 46,
   "id": "216254ae-9b72-4c7c-a599-fa52096d53b4",
   "metadata": {},
   "outputs": [
    {
     "name": "stdout",
     "output_type": "stream",
     "text": [
      "[2, 3, 5, 7, 11, 13, 17, 19, 23, 29, 31, 37, 41, 43, 47, 53, 59, 61, 67, 71, 73, 79, 83, 89, 97, 101, 103, 107, 109, 113, 127, 131, 137, 139, 149, 151, 157, 163, 167, 173, 179, 181, 191, 193, 197, 199]\n"
     ]
    }
   ],
   "source": [
    "#4. \n",
    "def is_prime(n):\n",
    "    if n <= 1:\n",
    "        return False\n",
    "    for i in range(2, int(n**0.5) + 1):\n",
    "        if n % i == 0:\n",
    "            return False\n",
    "    return True\n",
    "\n",
    "# Example: check primes from 1 to 200\n",
    "primes = [x for x in range(1, 201) if is_prime(x)]\n",
    "print(primes)\n"
   ]
  },
  {
   "cell_type": "code",
   "execution_count": 48,
   "id": "a964142f-d3d0-451b-be57-4b939137be08",
   "metadata": {},
   "outputs": [
    {
     "name": "stdout",
     "output_type": "stream",
     "text": [
      "0 1 1 2 3 5 8 13 21 34 "
     ]
    }
   ],
   "source": [
    "#5. \n",
    "\n",
    "class Fibonacci:\n",
    "    def __init__(self, n):\n",
    "        self.n = n\n",
    "        self.count = 0\n",
    "        self.a, self.b = 0, 1\n",
    "\n",
    "    def __iter__(self):\n",
    "        return self\n",
    "\n",
    "    def __next__(self):\n",
    "        if self.count >= self.n:\n",
    "            raise StopIteration\n",
    "        value = self.a\n",
    "        self.a, self.b = self.b, self.a + self.b\n",
    "        self.count += 1\n",
    "        return value\n",
    "\n",
    "# Example:\n",
    "for num in Fibonacci(10):\n",
    "    print(num, end=\" \")  \n"
   ]
  },
  {
   "cell_type": "code",
   "execution_count": 50,
   "id": "108adb87-260f-4a55-a42e-7d0c1160d972",
   "metadata": {},
   "outputs": [
    {
     "name": "stdout",
     "output_type": "stream",
     "text": [
      "1\n",
      "2\n",
      "4\n",
      "8\n",
      "16\n",
      "32\n"
     ]
    }
   ],
   "source": [
    "#6. \n",
    "def powers_of_two(max_exponent):\n",
    "    for i in range(max_exponent + 1):\n",
    "        yield 2 ** i\n",
    "\n",
    "# Example:\n",
    "for power in powers_of_two(5):\n",
    "    print(power)  \n"
   ]
  },
  {
   "cell_type": "code",
   "execution_count": 52,
   "id": "4561885a-e120-435c-92b2-89ab97d4db30",
   "metadata": {},
   "outputs": [],
   "source": [
    "#7. \n",
    "\n",
    "def read_lines(filename):\n",
    "    with open(filename, 'r') as file:\n",
    "        for line in file:\n",
    "            yield line.strip()\n",
    "\n"
   ]
  },
  {
   "cell_type": "code",
   "execution_count": 54,
   "id": "9b1036b1-219a-494f-97cb-f267733805d8",
   "metadata": {},
   "outputs": [
    {
     "name": "stdout",
     "output_type": "stream",
     "text": [
      "[(2, 1), (4, 2), (1, 3)]\n"
     ]
    }
   ],
   "source": [
    "#8. \n",
    "\n",
    "tuples = [(1, 3), (2, 1), (4, 2)]\n",
    "sorted_tuples = sorted(tuples, key=lambda x: x[1])\n",
    "print(sorted_tuples)  \n"
   ]
  },
  {
   "cell_type": "code",
   "execution_count": 56,
   "id": "a3aafa0f-846c-4b64-939e-80debd5640be",
   "metadata": {},
   "outputs": [
    {
     "name": "stdout",
     "output_type": "stream",
     "text": [
      "[32.0, 68.0, 98.6, 212.0]\n"
     ]
    }
   ],
   "source": [
    "#9. \n",
    "\n",
    "celsius = [0, 20, 37, 100]\n",
    "fahrenheit = list(map(lambda c: (c * 9/5) + 32, celsius))\n",
    "print(fahrenheit) \n"
   ]
  },
  {
   "cell_type": "code",
   "execution_count": 58,
   "id": "2f0e27d4-ca3d-46ca-8d6c-84c179258c49",
   "metadata": {},
   "outputs": [
    {
     "name": "stdout",
     "output_type": "stream",
     "text": [
      "Hll Wrld\n"
     ]
    }
   ],
   "source": [
    "#10. \n",
    "def remove_vowels(s):\n",
    "    return ''.join(filter(lambda ch: ch.lower() not in 'aeiou', s))\n",
    "\n",
    "# Example:\n",
    "print(remove_vowels(\"Hello World\"))  \n"
   ]
  },
  {
   "cell_type": "code",
   "execution_count": 60,
   "id": "f401a93d-4c6f-432c-ac0e-ab019cc83a8b",
   "metadata": {},
   "outputs": [
    {
     "name": "stdout",
     "output_type": "stream",
     "text": [
      "[('34587', 50.95), ('98762', 45.5), ('77226', 100.0), ('88112', 35.0)]\n"
     ]
    }
   ],
   "source": [
    "#11. \n",
    "\n",
    "orders = [\n",
    "    [\"34587\", \"Learning Python\", 40.95, 1],\n",
    "    [\"98762\", \"Programming Java\", 35.50, 1],\n",
    "    [\"77226\", \"Head First Python\", 45.00, 2],\n",
    "    [\"88112\", \"Algorithms\", 25.00, 1]\n",
    "]\n",
    "result = list(map(lambda order: (order[0], order[2]*order[3] if order[2]*order[3] >= 100 else order[2]*order[3] + 10), orders))\n",
    "print(result)\n"
   ]
  },
  {
   "cell_type": "code",
   "execution_count": null,
   "id": "d3e68196-9189-4247-9ec4-c1deb38bea8c",
   "metadata": {},
   "outputs": [],
   "source": []
  }
 ],
 "metadata": {
  "kernelspec": {
   "display_name": "Python [conda env:base] *",
   "language": "python",
   "name": "conda-base-py"
  },
  "language_info": {
   "codemirror_mode": {
    "name": "ipython",
    "version": 3
   },
   "file_extension": ".py",
   "mimetype": "text/x-python",
   "name": "python",
   "nbconvert_exporter": "python",
   "pygments_lexer": "ipython3",
   "version": "3.12.7"
  }
 },
 "nbformat": 4,
 "nbformat_minor": 5
}
